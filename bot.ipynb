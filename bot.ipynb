{
 "cells": [
  {
   "cell_type": "code",
   "execution_count": 1,
   "metadata": {},
   "outputs": [],
   "source": [
    "from telegram.ext import Updater\n",
    "from telegram.ext import Updater, CommandHandler,MessageHandler,Filters\n",
    "import logging\n",
    "from glob import glob\n",
    "from random import choice"
   ]
  },
  {
   "cell_type": "code",
   "execution_count": 2,
   "metadata": {},
   "outputs": [],
   "source": [
    "api = \"718206283:AAFO7r7hY-ue8pIDHvp8nx7OaIGYd7T0oOs\"\n",
    "PROXY = {'proxy_url': 'socks5://t1.learn.python.ru:1080',\n",
    "    'urllib3_proxy_kwargs': {'username': 'learn', 'password': 'python'}}\n",
    "\n",
    "logging.basicConfig(format='%(name)s - %(levelname)s - %(message)s',\n",
    "                    level=logging.INFO,\n",
    "                    filename='bot.log'\n",
    "                    )\n",
    "\n",
    "\n",
    "\n",
    "def main():\n",
    "    mybot = Updater(api,request_kwargs=PROXY,)\n",
    "    dp = mybot.dispatcher\n",
    "    dp.add_handler(CommandHandler(\"cat\", send_cat_picture))\n",
    "    dp.add_handler(CommandHandler(\"start\", greet_user))\n",
    "    dp.add_handler(MessageHandler(Filters.text, talk_to_me))\n",
    "    dp.add_handler(CommandHandler(\"graph\", send_graph_picture))\n",
    "    mybot.start_polling()\n",
    "    mybot.idle()\n",
    "    \n",
    "def greet_user(bot, update):\n",
    "    text = 'Вызван /start'\n",
    "    print(text)\n",
    "    update.message.reply_text(text)\n",
    "\n",
    "def talk_to_me(bot, update):\n",
    "    user_text = update.message.text \n",
    "    print('Вы сказали это:'+user_text)\n",
    "    update.message.reply_text(user_text)\n",
    "\n",
    "def send_graph_picture(bot,update):\n",
    "    msg= update.message.text\n",
    "    companyname = msg.split(' ')[1]\n",
    "    print(companyname)     \n",
    "    graphtake = 'C:\\\\Users\\\\thesi\\\\formoex\\\\'+companyname+'.png'\n",
    "    print(graphtake)\n",
    "    try:\n",
    "        plot_for_companies(companyname,filename=graphtake)\n",
    "        print(\"I am here\")\n",
    "        bot.send_photo(chat_id=update.message.chat.id, photo=open(graphtake, 'rb'))\n",
    "        print(\"Message sent\")\n",
    "    except Exception as error:\n",
    "        print(error)\n",
    "        \n",
    "\n",
    "def send_cat_picture(bot, update):\n",
    "    cat_list = glob('C:\\\\Users\\\\thesi\\\\OneDrive\\\\Изображения\\\\Camera Roll\\\\IMG*.jp*g')\n",
    "    cat_pic = choice(cat_list)\n",
    "    bot.send_photo(chat_id=update.message.chat.id, photo=open(cat_pic, 'rb'))"
   ]
  },
  {
   "cell_type": "code",
   "execution_count": 3,
   "metadata": {},
   "outputs": [],
   "source": [
    "def plot_for_companies(d=None, filename=None):\n",
    "    moex = MOEX()\n",
    "    data = moex.history_engines_stock_totals_securities(date_start='2018-01-01', date_end = '2018-05-01', secid=[d])\n",
    "    data[[\"SYSTIME\", \"SECID\", \"OPEN\", \"CLOSE\", \"LOW\", \"HIGH\", \"VOLUME\"]]\n",
    "    data = data[[\"SYSTIME\", \"SECID\", \"OPEN\", \"CLOSE\", \"LOW\", \"HIGH\", \"VOLUME\"]]\n",
    "    data = data.rename(columns={'SYSTIME':'DATE','VOLUME':'VOL'})\n",
    "    data1 = data[data['SECID'] == d]\n",
    "    \n",
    "    plt.plot(data['VOL'].astype(float), label = 'VOL')\n",
    "    plt.legend()\n",
    "    plt.savefig(filename+'1'+'.png',format='png',dpi=100)\n",
    "    plt.show()\n",
    "    plt.plot(data['OPEN'].astype(float), label = 'OPEN')\n",
    "    plt.plot(data['LOW'].astype(float) ,label ='LOW' )\n",
    "    plt.plot(data['HIGH'].astype(float) ,label = 'HIGHT')\n",
    "    plt.plot(data['CLOSE'].astype(float),label = 'CLOSE')\n",
    "    plt.legend()\n",
    "    if filename == None:\n",
    "         plt.show()\n",
    "    else:\n",
    "        plt.savefig(filename, format='png', dpi=100)"
   ]
  },
  {
   "cell_type": "code",
   "execution_count": null,
   "metadata": {},
   "outputs": [
    {
     "name": "stdout",
     "output_type": "stream",
     "text": [
      "SBER\n",
      "C:\\Users\\thesi\\formoex\\SBER.png\n",
      "name 'MOEX' is not defined\n"
     ]
    }
   ],
   "source": [
    "main()"
   ]
  },
  {
   "cell_type": "code",
   "execution_count": null,
   "metadata": {},
   "outputs": [],
   "source": []
  },
  {
   "cell_type": "code",
   "execution_count": null,
   "metadata": {},
   "outputs": [],
   "source": []
  }
 ],
 "metadata": {
  "kernelspec": {
   "display_name": "Python 3",
   "language": "python",
   "name": "python3"
  },
  "language_info": {
   "codemirror_mode": {
    "name": "ipython",
    "version": 3
   },
   "file_extension": ".py",
   "mimetype": "text/x-python",
   "name": "python",
   "nbconvert_exporter": "python",
   "pygments_lexer": "ipython3",
   "version": "3.6.6"
  }
 },
 "nbformat": 4,
 "nbformat_minor": 2
}
