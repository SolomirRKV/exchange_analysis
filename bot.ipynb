{
 "cells": [
  {
   "cell_type": "code",
   "execution_count": 5,
   "metadata": {},
   "outputs": [],
   "source": [
    "from telegram.ext import Updater\n",
    "from telegram.ext import Updater, CommandHandler,MessageHandler,Filters\n",
    "from telegram.ext import messagequeue as mq\n",
    "import logging\n",
    "from glob import glob\n",
    "from moex import MOEX\n",
    "import pandas as pd \n",
    "import matplotlib.pyplot as plt\n",
    "from random import choice"
   ]
  },
  {
   "cell_type": "code",
   "execution_count": 6,
   "metadata": {},
   "outputs": [],
   "source": [
    "subscribers= dict()"
   ]
  },
  {
   "cell_type": "code",
   "execution_count": 7,
   "metadata": {},
   "outputs": [],
   "source": [
    "api = \"718206283:AAFO7r7hY-ue8pIDHvp8nx7OaIGYd7T0oOs\"\n",
    "PROXY = {'proxy_url': 'socks5://t1.learn.python.ru:1080',\n",
    "    'urllib3_proxy_kwargs': {'username': 'learn', 'password': 'python'}}\n",
    "\n",
    "logging.basicConfig(format='%(name)s - %(levelname)s - %(message)s',\n",
    "                    level=logging.INFO,\n",
    "                    filename='bot.log'\n",
    "                    )\n",
    "\n",
    "\n",
    "def main():\n",
    "    mybot = Updater(api,request_kwargs=PROXY,)\n",
    "    dp = mybot.dispatcher\n",
    "    dp.add_handler(CommandHandler(\"cat\", send_cat_picture))\n",
    "    dp.add_handler(CommandHandler(\"start\", greet_user))\n",
    "    dp.add_handler(MessageHandler(Filters.text, talk_to_me))\n",
    "    dp.add_handler(CommandHandler(\"graph\", send_graph_picture))\n",
    "    dp.add_handler(CommandHandler(\"subscribe\",subscribe))\n",
    "    dp.add_handler(CommandHandler(\"unsubscribe\",unsubscribe))\n",
    "    mybot.bot._msg_queue = mq.MessageQueue()\n",
    "    mybot.bot._is_messages_queued_default = True\n",
    "    mybot.job_queue.run_repeating(send_graph, 60)\n",
    "    mybot.start_polling()\n",
    "    mybot.idle()\n",
    "    \n",
    "def subscribe(bot,update):\n",
    "    subscribers.add(update.message.chat_id)\n",
    "    notworket = update.message.text\n",
    "    companyname1 = notworket.split(' ')[1]\n",
    "    subscribers.add(update.message.chat_id,companyname1)\n",
    "    update.message.reply_text('Вы подписались на '+companyname1+' если хотите отписаться напишите unsubcribe')\n",
    "    print(subscribe)\n",
    "    \n",
    "def unsubscribe(bot,update):\n",
    "    if update.message.chat_id in subscribers:\n",
    "        subscribers.remove(update.message.chat_id)\n",
    "        update.message.reply_text(\"Ну ладно(\")\n",
    "    else:\n",
    "        update.message.reply_text(\"Вы не подписаны,но можете это сделать\")\n",
    "    \n",
    "def send_graph(companyname1,bot,job,):\n",
    "    companyname =companyname1\n",
    "    print(companyname)     \n",
    "    graphtake = '/home/vlad/formoex/'+companyname+'.png'\n",
    "    graphtake1 = '/home/vlad/formoex/'+companyname+'1'+'.png'\n",
    "    print(graphtake)\n",
    "    try:\n",
    "        for chat_id in subscribers:\n",
    "            bot.sendMessage(chat_id=chat_id)\n",
    "            send_graph_picture(companyname)        \n",
    "            print(\"Message sent\")\n",
    "    except Exception as error:\n",
    "            print(error)\n",
    "\n",
    "    \n",
    "def greet_user(bot, update):\n",
    "    text = 'Вызван /start'\n",
    "    print(text)\n",
    "    update.message.reply_text(text)\n",
    "\n",
    "def talk_to_me(bot, update):\n",
    "    user_text = update.message.text \n",
    "    print('Вы сказали это:'+user_text)\n",
    "    update.message.reply_text(user_text)\n",
    "\n",
    "def send_graph_picture(bot,update,companyname):\n",
    "    companyname = companyname1\n",
    "    print(companyname1)     \n",
    "    graphtake = '/home/vlad/formoex/'+companyname1+'.png'\n",
    "    graphtake1 = '/home/vlad/formoex/'+companyname1+'1'+'.png'\n",
    "    print(graphtake)\n",
    "    try:\n",
    "        plot_for_companies(companyname1,filename=companyname1)\n",
    "        print(\"I am here\")\n",
    "        bot.send_photo(chat_id=update.message.chat.id, photo=open(graphtake, 'rb'))\n",
    "        bot.send_photo(chat_id=update.message.chat.id, photo1=open(graphtake1,'rb'))\n",
    "        print(\"Message sent\")\n",
    "    except Exception as error:\n",
    "        print(error)\n",
    "\n",
    "def send_cat_picture(bot, update):\n",
    "    cat_list = glob('C:\\\\Users\\\\thesi\\\\OneDrive\\\\Изображения\\\\Camera Roll\\\\IMG*.jp*g')\n",
    "    cat_pic = choice(cat_list)\n",
    "    bot.send_photo(chat_id=update.message.chat.id, photo=open(cat_pic, 'rb'))\n"
   ]
  },
  {
   "cell_type": "code",
   "execution_count": 8,
   "metadata": {},
   "outputs": [],
   "source": [
    "def plot_for_companies(d=None, filename=None):\n",
    "    moex = MOEX()\n",
    "    data = moex.history_engines_stock_totals_securities(date_start='2018-01-01', date_end = '2018-05-01', secid=[d])\n",
    "    data[[\"SYSTIME\", \"SECID\", \"OPEN\", \"CLOSE\", \"LOW\", \"HIGH\", \"VOLUME\"]]\n",
    "    data = data[[\"SYSTIME\", \"SECID\", \"OPEN\", \"CLOSE\", \"LOW\", \"HIGH\", \"VOLUME\"]]\n",
    "    data = data.rename(columns={'SYSTIME':'DATE','VOLUME':'VOL'})\n",
    "    data1 = data[data['SECID'] == d]\n",
    "    \n",
    "    plt.plot(data['VOL'].astype(float), label = 'VOL')\n",
    "    plt.legend()\n",
    "    if filename ==None:\n",
    "        None\n",
    "    else:\n",
    "        plt.savefig(fname = str(filename)+'1'+'.png',format='png',dpi=100,)\n",
    "    plt.show()\n",
    "    plt.plot(data['OPEN'].astype(float), label = 'OPEN')\n",
    "    plt.plot(data['LOW'].astype(float) ,label ='LOW' )\n",
    "    plt.plot(data['HIGH'].astype(float) ,label = 'HIGHT')\n",
    "    plt.plot(data['CLOSE'].astype(float),label = 'CLOSE')\n",
    "    plt.legend()\n",
    "    if filename == None:\n",
    "        None\n",
    "    else:\n",
    "        plt.savefig(fname = str(filename)+'.png', format='png', dpi=100,)"
   ]
  },
  {
   "cell_type": "code",
   "execution_count": null,
   "metadata": {},
   "outputs": [],
   "source": [
    "main()\n"
   ]
  },
  {
   "cell_type": "code",
   "execution_count": 3,
   "metadata": {},
   "outputs": [
    {
     "data": {
      "text/plain": [
       "{}"
      ]
     },
     "execution_count": 3,
     "metadata": {},
     "output_type": "execute_result"
    }
   ],
   "source": [
    "subscribers\n"
   ]
  },
  {
   "cell_type": "code",
   "execution_count": 9,
   "metadata": {},
   "outputs": [
    {
     "ename": "TypeError",
     "evalue": "subscribe() missing 2 required positional arguments: 'bot' and 'update'",
     "output_type": "error",
     "traceback": [
      "\u001b[0;31m---------------------------------------------------------------------------\u001b[0m",
      "\u001b[0;31mTypeError\u001b[0m                                 Traceback (most recent call last)",
      "\u001b[0;32m<ipython-input-9-e6a59fac058a>\u001b[0m in \u001b[0;36m<module>\u001b[0;34m()\u001b[0m\n\u001b[0;32m----> 1\u001b[0;31m \u001b[0msubscribe\u001b[0m\u001b[0;34m(\u001b[0m\u001b[0;34m)\u001b[0m\u001b[0;34m\u001b[0m\u001b[0m\n\u001b[0m",
      "\u001b[0;31mTypeError\u001b[0m: subscribe() missing 2 required positional arguments: 'bot' and 'update'"
     ]
    }
   ],
   "source": [
    "subscribe()"
   ]
  },
  {
   "cell_type": "code",
   "execution_count": null,
   "metadata": {},
   "outputs": [],
   "source": []
  }
 ],
 "metadata": {
  "kernelspec": {
   "display_name": "Python 3",
   "language": "python",
   "name": "python3"
  },
  "language_info": {
   "codemirror_mode": {
    "name": "ipython",
    "version": 3
   },
   "file_extension": ".py",
   "mimetype": "text/x-python",
   "name": "python",
   "nbconvert_exporter": "python",
   "pygments_lexer": "ipython3",
   "version": "3.6.5"
  }
 },
 "nbformat": 4,
 "nbformat_minor": 2
}
